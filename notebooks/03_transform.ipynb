{
 "cells": [
  {
   "cell_type": "code",
   "execution_count": 1,
   "id": "87768171",
   "metadata": {},
   "outputs": [],
   "source": [
    "import pandas as pd"
   ]
  },
  {
   "cell_type": "code",
   "execution_count": 2,
   "id": "874340f2",
   "metadata": {},
   "outputs": [],
   "source": [
    "poscomp = pd.read_csv('../data/processed/poscomp_cleaned.csv')"
   ]
  },
  {
   "cell_type": "code",
   "execution_count": 3,
   "id": "a733b6a9",
   "metadata": {},
   "outputs": [],
   "source": [
    "poscomp['idade'] = 2024 - poscomp['idade'].apply(lambda x: int(x[:4]))"
   ]
  },
  {
   "cell_type": "code",
   "execution_count": 4,
   "id": "2fa736da",
   "metadata": {},
   "outputs": [],
   "source": [
    "poscomp['sexo'] = poscomp['sexo'].apply(lambda x: 0 if x == 'feminino' else 1)"
   ]
  },
  {
   "cell_type": "code",
   "execution_count": 5,
   "id": "33614d73",
   "metadata": {},
   "outputs": [],
   "source": [
    "poscomp = pd.get_dummies(poscomp, columns=['estado', 'ano'])"
   ]
  },
  {
   "cell_type": "code",
   "execution_count": 6,
   "id": "2271558a",
   "metadata": {},
   "outputs": [],
   "source": [
    "poscomp = poscomp.astype(int)"
   ]
  },
  {
   "cell_type": "code",
   "execution_count": 7,
   "id": "ad6bf34d",
   "metadata": {},
   "outputs": [],
   "source": [
    "poscomp.to_csv('../data/processed/poscomp_transformed.csv', index=False)"
   ]
  }
 ],
 "metadata": {
  "kernelspec": {
   "display_name": ".venv",
   "language": "python",
   "name": "python3"
  },
  "language_info": {
   "codemirror_mode": {
    "name": "ipython",
    "version": 3
   },
   "file_extension": ".py",
   "mimetype": "text/x-python",
   "name": "python",
   "nbconvert_exporter": "python",
   "pygments_lexer": "ipython3",
   "version": "3.13.7"
  }
 },
 "nbformat": 4,
 "nbformat_minor": 5
}
