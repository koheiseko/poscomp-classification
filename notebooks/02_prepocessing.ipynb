{
 "cells": [
  {
   "cell_type": "code",
   "execution_count": 1,
   "id": "8147730d",
   "metadata": {},
   "outputs": [],
   "source": [
    "import pandas as pd"
   ]
  },
  {
   "cell_type": "code",
   "execution_count": 2,
   "id": "86ab562f",
   "metadata": {},
   "outputs": [],
   "source": [
    "poscomp = pd.read_csv('../data/raw/poscomp_2023.csv')"
   ]
  },
  {
   "cell_type": "code",
   "execution_count": 3,
   "id": "f4d0915a",
   "metadata": {},
   "outputs": [],
   "source": [
    "poscomp = poscomp[poscomp['presença'] == 's']"
   ]
  },
  {
   "cell_type": "code",
   "execution_count": 4,
   "id": "a80244b4",
   "metadata": {},
   "outputs": [],
   "source": [
    "poscomp.dropna(inplace=True)"
   ]
  },
  {
   "cell_type": "code",
   "execution_count": 5,
   "id": "50bdb628",
   "metadata": {},
   "outputs": [],
   "source": [
    "inteligência_omputacional_e_ciencia_de_dados = ['inteligência artificial', 'visão computacional', 'bioinformática', 'otimização', 'robótica', 'aprendizado de máquina', 'sistemas inteligentes', 'ciência de dados', 'modelagem computacional', 'computação visual']\n",
    "\n",
    "sistemas_de_computacao = ['arquitetura de computadores', 'sistemas embarcados', 'redes de computadores', 'sistemas de computação', 'processamento paralelo e distribuído', 'sistemas e tecnologias da computação']\n",
    "\n",
    "engenharia_de_software_e_interacao = ['engenharia de software', 'interação humano-computador', 'linguagens de programação', 'metodologias e técnicas de computação', 'sistemas de informação', 'banco de dados', 'computação gráfica']\n",
    "\n",
    "educacao_em_computacao_e_sociedade =['informática na educação', 'aplicações computacionais', 'tecnologia da informação', 'computação aplicada'] \n",
    "\n",
    "demais_areas = ['Demais áreas', 'teoria da computação']"
   ]
  },
  {
   "cell_type": "code",
   "execution_count": 6,
   "id": "7d2277c3",
   "metadata": {},
   "outputs": [],
   "source": [
    "from src.data_processing import get_areas"
   ]
  },
  {
   "cell_type": "code",
   "execution_count": 7,
   "id": "70d6969e",
   "metadata": {},
   "outputs": [],
   "source": [
    "poscomp['area'] = poscomp['especialidade'].apply(lambda x: get_areas(x, inteligência_omputacional_e_ciencia_de_dados, sistemas_de_computacao, engenharia_de_software_e_interacao, educacao_em_computacao_e_sociedade, demais_areas))"
   ]
  },
  {
   "cell_type": "code",
   "execution_count": 8,
   "id": "bc5c77db",
   "metadata": {},
   "outputs": [],
   "source": [
    "features = ['idade', 'especialidade','sexo', 'estado', 'ano', 'matematica', 'fund_computacao', 'tec_computacao', 'area']"
   ]
  },
  {
   "cell_type": "code",
   "execution_count": 9,
   "id": "f195ee7e",
   "metadata": {},
   "outputs": [],
   "source": [
    "poscomp = poscomp[features]"
   ]
  },
  {
   "cell_type": "code",
   "execution_count": 11,
   "id": "e3b031fa",
   "metadata": {},
   "outputs": [],
   "source": [
    "poscomp.to_csv('../data/processed/poscomp_cleaned2.csv', index=False)"
   ]
  }
 ],
 "metadata": {
  "kernelspec": {
   "display_name": ".venv",
   "language": "python",
   "name": "python3"
  },
  "language_info": {
   "codemirror_mode": {
    "name": "ipython",
    "version": 3
   },
   "file_extension": ".py",
   "mimetype": "text/x-python",
   "name": "python",
   "nbconvert_exporter": "python",
   "pygments_lexer": "ipython3",
   "version": "3.13.7"
  }
 },
 "nbformat": 4,
 "nbformat_minor": 5
}
