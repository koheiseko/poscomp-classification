{
 "cells": [
  {
   "cell_type": "markdown",
   "id": "c4d1e89f",
   "metadata": {},
   "source": [
    "# 2. Preprocessing"
   ]
  },
  {
   "cell_type": "code",
   "execution_count": 23,
   "id": "8147730d",
   "metadata": {},
   "outputs": [],
   "source": [
    "import pandas as pd"
   ]
  },
  {
   "cell_type": "code",
   "execution_count": 24,
   "id": "86ab562f",
   "metadata": {},
   "outputs": [],
   "source": [
    "poscomp = pd.read_csv('../data/raw/poscomp_2023.csv')"
   ]
  },
  {
   "cell_type": "markdown",
   "id": "bba71730",
   "metadata": {},
   "source": [
    "### 2.1 Limpeza dos Dados Ausentes\n",
    "\n",
    "Foi retirado todos os dados de participantes que não compareceram na realização da prova, já que eram todos dados ausentes."
   ]
  },
  {
   "cell_type": "code",
   "execution_count": 25,
   "id": "f4d0915a",
   "metadata": {},
   "outputs": [],
   "source": [
    "poscomp = poscomp[poscomp['presença'] == 's']"
   ]
  },
  {
   "cell_type": "markdown",
   "id": "d34c77ea",
   "metadata": {},
   "source": [
    "### 2.2 Criação do Atributo Área\n",
    "\n",
    "Foi criado atributo **\"area\"** de acordo com os valores do atributo \"especialidade\"."
   ]
  },
  {
   "cell_type": "code",
   "execution_count": 26,
   "id": "50bdb628",
   "metadata": {},
   "outputs": [],
   "source": [
    "inteligência_omputacional_e_ciencia_de_dados = ['inteligência artificial', 'visão computacional', 'bioinformática', 'otimização', 'robótica', 'aprendizado de máquina', 'sistemas inteligentes', 'ciência de dados', 'modelagem computacional', 'computação visual']\n",
    "\n",
    "sistemas_de_computacao = ['arquitetura de computadores', 'sistemas embarcados', 'redes de computadores', 'sistemas de computação', 'processamento paralelo e distribuído', 'sistemas e tecnologias da computação']\n",
    "\n",
    "engenharia_de_software_e_interacao = ['engenharia de software', 'interação humano-computador', 'linguagens de programação', 'metodologias e técnicas de computação', 'sistemas de informação', 'banco de dados', 'computação gráfica']\n",
    "\n",
    "educacao_em_computacao_e_sociedade =['informática na educação', 'aplicações computacionais', 'tecnologia da informação', 'computação aplicada'] \n",
    "\n",
    "demais_areas = ['Demais áreas', 'teoria da computação']"
   ]
  },
  {
   "cell_type": "code",
   "execution_count": null,
   "id": "70d6969e",
   "metadata": {},
   "outputs": [],
   "source": [
    "from src.data_processing import get_areas\n",
    "\n",
    "poscomp['area'] = poscomp['especialidade'].apply(lambda x: get_areas(x, inteligência_omputacional_e_ciencia_de_dados, sistemas_de_computacao, engenharia_de_software_e_interacao, educacao_em_computacao_e_sociedade, demais_areas))"
   ]
  },
  {
   "cell_type": "markdown",
   "id": "bdb11b16",
   "metadata": {},
   "source": [
    "### 2.3 Seleção das Features\n",
    "\n",
    "Foram escolhidos os seguintes atributos para a classificação do atributo \"area\".\n",
    "\n",
    "- Idade\n",
    "- Sexo\n",
    "- Estado\n",
    "- Ano\n",
    "- Matemática\n",
    "- Fund. Computação\n",
    "- Tec. Computação"
   ]
  },
  {
   "cell_type": "code",
   "execution_count": 29,
   "id": "bc5c77db",
   "metadata": {},
   "outputs": [],
   "source": [
    "features = ['idade', 'sexo', 'estado', 'ano', 'matematica', 'fund_computacao', 'tec_computacao', 'area']"
   ]
  },
  {
   "cell_type": "code",
   "execution_count": 30,
   "id": "f195ee7e",
   "metadata": {},
   "outputs": [],
   "source": [
    "poscomp = poscomp[features]"
   ]
  },
  {
   "cell_type": "markdown",
   "id": "2f824432",
   "metadata": {},
   "source": [
    "### 2.4 Salvamento do Dataset Limpo"
   ]
  },
  {
   "cell_type": "code",
   "execution_count": 31,
   "id": "e3b031fa",
   "metadata": {},
   "outputs": [],
   "source": [
    "poscomp.to_csv('../data/processed/poscomp_cleaned.csv', index=False)"
   ]
  }
 ],
 "metadata": {
  "kernelspec": {
   "display_name": ".venv",
   "language": "python",
   "name": "python3"
  },
  "language_info": {
   "codemirror_mode": {
    "name": "ipython",
    "version": 3
   },
   "file_extension": ".py",
   "mimetype": "text/x-python",
   "name": "python",
   "nbconvert_exporter": "python",
   "pygments_lexer": "ipython3",
   "version": "3.13.7"
  }
 },
 "nbformat": 4,
 "nbformat_minor": 5
}
